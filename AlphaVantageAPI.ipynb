{
 "cells": [
  {
   "cell_type": "code",
   "execution_count": 2,
   "metadata": {},
   "outputs": [
    {
     "name": "stdout",
     "output_type": "stream",
     "text": [
      "            1a. open (AUD)  1b. open (USD)  2a. high (AUD)  2b. high (USD)  \\\n",
      "2023-04-07    42210.194540        28171.87    43113.870250        28775.00   \n",
      "2023-04-02    41904.808996        27968.05    43727.697891        29184.68   \n",
      "2023-03-26    41912.030850        27972.87    43253.287996        28868.05   \n",
      "2023-03-19    32959.898296        21998.05    42537.170731        28390.10   \n",
      "2023-03-12    33607.452894        22430.24    33865.087299        22602.19   \n",
      "\n",
      "            3a. low (AUD)  3b. low (USD)  4a. close (AUD)  4b. close (USD)  \\\n",
      "2023-04-07   40754.391594       27200.24     42099.499397         28097.99   \n",
      "2023-04-02   39717.411243       26508.14     42210.194540         28171.87   \n",
      "2023-03-26   39857.742958       26601.80     41904.808996         27968.05   \n",
      "2023-03-19   32683.954543       21813.88     41912.030850         27972.87   \n",
      "2023-03-12   29290.597038       19549.09     32958.489884         21997.11   \n",
      "\n",
      "               5. volume  6. market cap (USD)  \n",
      "2023-04-07  2.306565e+05         2.306565e+05  \n",
      "2023-04-02  5.007957e+05         5.007957e+05  \n",
      "2023-03-26  1.437829e+06         1.437829e+06  \n",
      "2023-03-19  3.775889e+06         3.775889e+06  \n",
      "2023-03-12  2.718624e+06         2.718624e+06  \n"
     ]
    }
   ],
   "source": [
    "import requests\n",
    "import pandas as pd\n",
    "\n",
    "# Welcome to Alpha Vantage! Your API key is: ZXE3XDDJ02XUN134\n",
    "# set API endpoint and parameters\n",
    "url = 'https://www.alphavantage.co/query'\n",
    "function = 'DIGITAL_CURRENCY_WEEKLY' # function to call for cryptocurrency weekly data\n",
    "symbol = 'BTC' # cryptocurrency symbol\n",
    "market = 'AUD' # currency to convert to\n",
    "apikey = 'ZXE3XDDJ02XUN134'\n",
    "\n",
    "# make API request\n",
    "params = {'function': function, 'symbol': symbol, 'market': market, 'apikey': apikey}\n",
    "response = requests.get(url, params=params).json()\n",
    "\n",
    "# extract data from response\n",
    "data = response['Time Series (Digital Currency Weekly)']\n",
    "df = pd.DataFrame(data).T\n",
    "df.index = pd.to_datetime(df.index) # convert index to datetime objects\n",
    "df = df.astype(float)\n",
    "\n",
    "# print the first 5 rows of the data frame\n",
    "print(df.head())"
   ]
  }
 ],
 "metadata": {
  "kernelspec": {
   "display_name": "base",
   "language": "python",
   "name": "python3"
  },
  "language_info": {
   "codemirror_mode": {
    "name": "ipython",
    "version": 3
   },
   "file_extension": ".py",
   "mimetype": "text/x-python",
   "name": "python",
   "nbconvert_exporter": "python",
   "pygments_lexer": "ipython3",
   "version": "3.8.3"
  },
  "orig_nbformat": 4
 },
 "nbformat": 4,
 "nbformat_minor": 2
}
